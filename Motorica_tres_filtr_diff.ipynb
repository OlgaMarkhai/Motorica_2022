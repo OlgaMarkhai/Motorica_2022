{
 "cells": [
  {
   "cell_type": "markdown",
   "metadata": {},
   "source": [
    "## ПАРАМЕТРЫ"
   ]
  },
  {
   "cell_type": "code",
   "execution_count": 19,
   "metadata": {},
   "outputs": [],
   "source": [
    "# Порог\n",
    "tres =250\n",
    "# Вид фильтрации  0-нет фильтрации, 1 - среднее, 2 - медиана\n",
    "filtr_type = 2\n",
    "# Окно фильтрации\n",
    "ww = 5\n",
    "# шаг diff\n",
    "step = 5\n",
    "# Удалять нулевые столбцы? 0 - не удалять\n",
    "drop = 1"
   ]
  },
  {
   "cell_type": "code",
   "execution_count": 20,
   "metadata": {},
   "outputs": [],
   "source": [
    "import pandas as pd\n",
    "import numpy as np\n",
    "from statistics import median\n",
    "from statistics import mean"
   ]
  },
  {
   "cell_type": "code",
   "execution_count": 21,
   "metadata": {},
   "outputs": [
    {
     "data": {
      "text/plain": [
       "(165, 40, 60)"
      ]
     },
     "execution_count": 21,
     "metadata": {},
     "output_type": "execute_result"
    }
   ],
   "source": [
    "X_train = np.load ( 'X_train.npy')\n",
    "X_train.shape"
   ]
  },
  {
   "cell_type": "code",
   "execution_count": 22,
   "metadata": {},
   "outputs": [
    {
     "data": {
      "text/plain": [
       "(166, 40, 60)"
      ]
     },
     "execution_count": 22,
     "metadata": {},
     "output_type": "execute_result"
    }
   ],
   "source": [
    "X_test = np.load ( 'X_test.npy')\n",
    "X_test.shape"
   ]
  },
  {
   "cell_type": "code",
   "execution_count": 23,
   "metadata": {},
   "outputs": [],
   "source": [
    "y_train = pd.read_csv('y_train.csv')"
   ]
  },
  {
   "cell_type": "code",
   "execution_count": 24,
   "metadata": {},
   "outputs": [],
   "source": [
    "# Пороговая фильтрация train\n",
    "X_tres_train = np.copy(X_train)\n",
    "\n",
    "for i in range(X_train.shape[0]):\n",
    "    for j in range(X_train.shape[1]):\n",
    "        for k in range(X_train.shape[2]):\n",
    "            if X_train[i][j][k] <= tres:\n",
    "                X_tres_train[i][j][k] = 0\n",
    "            else:\n",
    "                X_tres_train[i][j][k] = X_train[i][j][k]\n",
    "            "
   ]
  },
  {
   "cell_type": "code",
   "execution_count": 25,
   "metadata": {},
   "outputs": [],
   "source": [
    "# Пороговая фильтрация test\n",
    "X_tres_test = np.copy(X_test)\n",
    "\n",
    "for i in range(X_test.shape[0]):\n",
    "    for j in range(X_test.shape[1]):\n",
    "        for k in range(X_test.shape[2]):\n",
    "            if X_test[i][j][k] <= tres:\n",
    "                X_tres_test[i][j][k] = 0\n",
    "            else:\n",
    "                X_tres_test[i][j][k] = X_test[i][j][k]              \n",
    "            "
   ]
  },
  {
   "cell_type": "code",
   "execution_count": 26,
   "metadata": {},
   "outputs": [],
   "source": [
    "# Фильтрация train\n",
    "# Вид фильтрации  0-нет фильтрации, 1 - среднее, 2 - медиана\n",
    "X_m_train = np.copy(X_tres_train)\n",
    "\n",
    "if filtr_type == 1:\n",
    "    for i in range(X_train.shape[0]):\n",
    "        for j in range(X_train.shape[1]):\n",
    "            for k in range(X_train.shape[2]):\n",
    "                X_m_train[i][j][k] = mean(list(X_tres_train[i][j])[k:(k+ww)])\n",
    "elif filtr_type == 2:\n",
    "    for i in range(X_train.shape[0]):\n",
    "        for j in range(X_train.shape[1]):\n",
    "            for k in range(X_train.shape[2]):\n",
    "                X_m_train[i][j][k] = median(list(X_tres_train[i][j])[k:(k+ww)])   "
   ]
  },
  {
   "cell_type": "code",
   "execution_count": 27,
   "metadata": {},
   "outputs": [],
   "source": [
    "# Фильтрация test\n",
    "# Вид фильтрации  0-нет фильтрации, 1 - среднее, 2 - медиана\n",
    "X_m_test = np.copy(X_tres_test)\n",
    "\n",
    "if filtr_type == 1:\n",
    "    for i in range(X_test.shape[0]):\n",
    "        for j in range(X_test.shape[1]):\n",
    "            for k in range(X_test.shape[2]):\n",
    "                X_m_test[i][j][k] = mean(list(X_tres_test[i][j])[k:(k+ww)])\n",
    "elif filtr_type == 2:\n",
    "    for i in range(X_train.shape[0]):\n",
    "        for j in range(X_train.shape[1]):\n",
    "            for k in range(X_train.shape[2]):\n",
    "                X_m_test[i][j][k] = median(list(X_tres_test[i][j])[k:(k+ww)])"
   ]
  },
  {
   "cell_type": "code",
   "execution_count": 28,
   "metadata": {},
   "outputs": [
    {
     "data": {
      "text/plain": [
       "(165, 40, 8)"
      ]
     },
     "execution_count": 28,
     "metadata": {},
     "output_type": "execute_result"
    }
   ],
   "source": [
    "# Формирование признаков train\n",
    "n_features = 8              # количество признаков\n",
    "ind_feat = n_features - 1    # индекс признака (для удобства индексации)\n",
    "X_d_train = np.zeros((165, 40, n_features))\n",
    "for i in range(165):\n",
    "    chan_df =  pd.DataFrame(X_m_train[i]).T\n",
    "\n",
    "    for j in range(40):\n",
    "        diff_current = chan_df[j].diff(step)\n",
    "        \n",
    "        X_d_train[i][j][ind_feat] = chan_df[j].mean()\n",
    "        X_d_train[i][j][ind_feat-1] = chan_df[j].median()\n",
    "        X_d_train[i][j][ind_feat-2] = chan_df[j].std()\n",
    "        X_d_train[i][j][ind_feat-3] = chan_df[j][0]\n",
    "        X_d_train[i][j][ind_feat-4] = chan_df[j][59]\n",
    "        X_d_train[i][j][ind_feat-5] = diff_current.max() - diff_current.min()\n",
    "        X_d_train[i][j][ind_feat-6] = diff_current.idxmax()\n",
    "        X_d_train[i][j][ind_feat-7] = diff_current.idxmin()\n",
    "X_d_train.shape"
   ]
  },
  {
   "cell_type": "code",
   "execution_count": 29,
   "metadata": {},
   "outputs": [
    {
     "data": {
      "text/plain": [
       "(166, 40, 8)"
      ]
     },
     "execution_count": 29,
     "metadata": {},
     "output_type": "execute_result"
    }
   ],
   "source": [
    "# Формирование признаков test\n",
    "X_d_test = np.zeros((166, 40, n_features))\n",
    "for i in range(166):\n",
    "    chan_df_ =  pd.DataFrame(X_m_test[i]).T\n",
    "\n",
    "    for j in range(40):\n",
    "        diff_current_ = chan_df_[j].diff(step)\n",
    "        \n",
    "        X_d_test[i][j][ind_feat] = chan_df_[j].mean()\n",
    "        X_d_test[i][j][ind_feat-1] = chan_df_[j].median()\n",
    "        X_d_test[i][j][ind_feat-2] = chan_df_[j].std()\n",
    "        X_d_test[i][j][ind_feat-3] = chan_df_[j][0]\n",
    "        X_d_test[i][j][ind_feat-4] = chan_df_[j][59]\n",
    "        X_d_test[i][j][ind_feat-5] = diff_current_.max() - diff_current_.min()\n",
    "        X_d_test[i][j][ind_feat-6] = diff_current_.idxmax() \n",
    "        X_d_test[i][j][ind_feat-7] = diff_current_.idxmin() \n",
    "X_d_test.shape"
   ]
  },
  {
   "cell_type": "code",
   "execution_count": 30,
   "metadata": {},
   "outputs": [],
   "source": [
    "dim2 = X_d_train.shape[1]*X_d_train.shape[2]\n",
    "X_train_2d_ = X_d_train.reshape((X_d_train.shape[0], dim2))\n",
    "X_test_2d_ = X_d_test.reshape((X_d_test.shape[0],dim2))"
   ]
  },
  {
   "cell_type": "code",
   "execution_count": 31,
   "metadata": {},
   "outputs": [],
   "source": [
    "X_train_2d = pd.DataFrame(X_train_2d_)\n",
    "X_test_2d = pd.DataFrame(X_test_2d_)"
   ]
  },
  {
   "cell_type": "code",
   "execution_count": 32,
   "metadata": {},
   "outputs": [
    {
     "data": {
      "text/plain": [
       "144"
      ]
     },
     "execution_count": 32,
     "metadata": {},
     "output_type": "execute_result"
    }
   ],
   "source": [
    "low_sig_list_train = []\n",
    "for col in X_train_2d.columns:\n",
    "    if X_train_2d[col].max()<= 0:\n",
    "        low_sig_list_train.append(col)\n",
    "\n",
    "len(low_sig_list_train)"
   ]
  },
  {
   "cell_type": "code",
   "execution_count": 33,
   "metadata": {},
   "outputs": [
    {
     "data": {
      "text/plain": [
       "144"
      ]
     },
     "execution_count": 33,
     "metadata": {},
     "output_type": "execute_result"
    }
   ],
   "source": [
    "low_sig_list_test = []\n",
    "for col in X_test_2d.columns:\n",
    "    if X_test_2d[col].max()<= 0:\n",
    "        low_sig_list_test.append(col)\n",
    "\n",
    "len(low_sig_list_test)"
   ]
  },
  {
   "cell_type": "markdown",
   "metadata": {},
   "source": [
    "Если len(low_sig_list_train) не равна len(low_sig_list_test) модель тестовую выборку не обрабатывает. Тогда надо подобрать порог tres."
   ]
  },
  {
   "cell_type": "code",
   "execution_count": 34,
   "metadata": {},
   "outputs": [],
   "source": [
    "if drop != 0:\n",
    "    X_train_2d.drop(low_sig_list_train, axis=1, inplace=True)\n",
    "    X_test_2d.drop(low_sig_list_test, axis=1, inplace=True)"
   ]
  },
  {
   "cell_type": "code",
   "execution_count": 35,
   "metadata": {},
   "outputs": [],
   "source": [
    "y_train = y_train['Class']"
   ]
  },
  {
   "cell_type": "code",
   "execution_count": 36,
   "metadata": {},
   "outputs": [],
   "source": [
    "from sklearn.model_selection import train_test_split\n",
    "# выделим 20% данных на тестовую выборку (параметр test_size)\n",
    "X_train_1, X_test_1, y_train_1, y_test_1 = train_test_split(X_train_2d, y_train, test_size=0.2, random_state=0, stratify=y_train)"
   ]
  },
  {
   "cell_type": "code",
   "execution_count": 37,
   "metadata": {},
   "outputs": [
    {
     "data": {
      "text/plain": [
       "LogisticRegression(max_iter=1000, random_state=42)"
      ]
     },
     "execution_count": 37,
     "metadata": {},
     "output_type": "execute_result"
    }
   ],
   "source": [
    "from sklearn.linear_model import LogisticRegression\n",
    "#Обучаем модель\n",
    "logreg_0 = LogisticRegression(random_state=42, max_iter = 1000)\n",
    "logreg_0.fit(X_train_1, y_train_1)"
   ]
  },
  {
   "cell_type": "code",
   "execution_count": 38,
   "metadata": {},
   "outputs": [],
   "source": [
    "y_pred = logreg_0.predict(X_test_1)"
   ]
  },
  {
   "cell_type": "code",
   "execution_count": 39,
   "metadata": {},
   "outputs": [
    {
     "data": {
      "text/plain": [
       "1.0"
      ]
     },
     "execution_count": 39,
     "metadata": {},
     "output_type": "execute_result"
    }
   ],
   "source": [
    "from sklearn.metrics import f1_score\n",
    "f1_score(y_test_1, y_pred, average='weighted')"
   ]
  },
  {
   "cell_type": "code",
   "execution_count": 40,
   "metadata": {},
   "outputs": [],
   "source": [
    "y_pred_test = logreg_0.predict(X_test_2d)"
   ]
  },
  {
   "cell_type": "code",
   "execution_count": 41,
   "metadata": {},
   "outputs": [],
   "source": [
    "sample_submission = pd.read_csv('sample_submission.csv')\n",
    "submission = sample_submission\n",
    "submission['Class'] = y_pred_test\n",
    "submission.to_csv('submission.csv', index=False)"
   ]
  },
  {
   "cell_type": "code",
   "execution_count": 42,
   "metadata": {},
   "outputs": [
    {
     "data": {
      "text/html": [
       "<div>\n",
       "<style scoped>\n",
       "    .dataframe tbody tr th:only-of-type {\n",
       "        vertical-align: middle;\n",
       "    }\n",
       "\n",
       "    .dataframe tbody tr th {\n",
       "        vertical-align: top;\n",
       "    }\n",
       "\n",
       "    .dataframe thead th {\n",
       "        text-align: right;\n",
       "    }\n",
       "</style>\n",
       "<table border=\"1\" class=\"dataframe\">\n",
       "  <thead>\n",
       "    <tr style=\"text-align: right;\">\n",
       "      <th></th>\n",
       "      <th>Id</th>\n",
       "      <th>Class</th>\n",
       "    </tr>\n",
       "  </thead>\n",
       "  <tbody>\n",
       "    <tr>\n",
       "      <th>0</th>\n",
       "      <td>165</td>\n",
       "      <td>10</td>\n",
       "    </tr>\n",
       "    <tr>\n",
       "      <th>1</th>\n",
       "      <td>166</td>\n",
       "      <td>1</td>\n",
       "    </tr>\n",
       "    <tr>\n",
       "      <th>2</th>\n",
       "      <td>167</td>\n",
       "      <td>10</td>\n",
       "    </tr>\n",
       "    <tr>\n",
       "      <th>3</th>\n",
       "      <td>168</td>\n",
       "      <td>13</td>\n",
       "    </tr>\n",
       "    <tr>\n",
       "      <th>4</th>\n",
       "      <td>169</td>\n",
       "      <td>4</td>\n",
       "    </tr>\n",
       "    <tr>\n",
       "      <th>...</th>\n",
       "      <td>...</td>\n",
       "      <td>...</td>\n",
       "    </tr>\n",
       "    <tr>\n",
       "      <th>161</th>\n",
       "      <td>326</td>\n",
       "      <td>14</td>\n",
       "    </tr>\n",
       "    <tr>\n",
       "      <th>162</th>\n",
       "      <td>327</td>\n",
       "      <td>13</td>\n",
       "    </tr>\n",
       "    <tr>\n",
       "      <th>163</th>\n",
       "      <td>328</td>\n",
       "      <td>3</td>\n",
       "    </tr>\n",
       "    <tr>\n",
       "      <th>164</th>\n",
       "      <td>329</td>\n",
       "      <td>9</td>\n",
       "    </tr>\n",
       "    <tr>\n",
       "      <th>165</th>\n",
       "      <td>330</td>\n",
       "      <td>6</td>\n",
       "    </tr>\n",
       "  </tbody>\n",
       "</table>\n",
       "<p>166 rows × 2 columns</p>\n",
       "</div>"
      ],
      "text/plain": [
       "      Id  Class\n",
       "0    165     10\n",
       "1    166      1\n",
       "2    167     10\n",
       "3    168     13\n",
       "4    169      4\n",
       "..   ...    ...\n",
       "161  326     14\n",
       "162  327     13\n",
       "163  328      3\n",
       "164  329      9\n",
       "165  330      6\n",
       "\n",
       "[166 rows x 2 columns]"
      ]
     },
     "execution_count": 42,
     "metadata": {},
     "output_type": "execute_result"
    }
   ],
   "source": [
    "submission"
   ]
  },
  {
   "cell_type": "code",
   "execution_count": null,
   "metadata": {},
   "outputs": [],
   "source": []
  }
 ],
 "metadata": {
  "kernelspec": {
   "display_name": "Python 3",
   "language": "python",
   "name": "python3"
  },
  "language_info": {
   "codemirror_mode": {
    "name": "ipython",
    "version": 3
   },
   "file_extension": ".py",
   "mimetype": "text/x-python",
   "name": "python",
   "nbconvert_exporter": "python",
   "pygments_lexer": "ipython3",
   "version": "3.8.8"
  },
  "vscode": {
   "interpreter": {
    "hash": "93e5499867a482d1f69126f65754e04e21327fbe16c28c259dff18a59fe0a8c0"
   }
  }
 },
 "nbformat": 4,
 "nbformat_minor": 2
}
